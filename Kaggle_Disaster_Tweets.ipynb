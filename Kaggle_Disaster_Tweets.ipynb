{
 "cells": [
  {
   "cell_type": "code",
   "execution_count": 1,
   "id": "534a6fc8",
   "metadata": {},
   "outputs": [],
   "source": [
    "import pandas as pd\n",
    "import numpy as np\n",
    "import seaborn as sns\n",
    "import urllib.request\n",
    "\n",
    "import matplotlib.pyplot as plt\n",
    "%matplotlib inline\n",
    "\n",
    "import tensorflow\n",
    "from tensorflow import keras\n",
    "from tensorflow.keras.preprocessing.text import Tokenizer\n",
    "from tensorflow.keras.preprocessing.sequence import pad_sequences\n",
    "\n",
    "from tensorflow.keras.models import Sequential\n",
    "from tensorflow.keras.initializers import Constant\n",
    "from tensorflow.keras.layers import (LSTM,\n",
    "                                    GRU,\n",
    "                                    Embedding,\n",
    "                                    BatchNormalization,\n",
    "                                    Dense,\n",
    "                                    TimeDistributed,\n",
    "                                    Dropout,\n",
    "                                    Bidirectional,\n",
    "                                    Flatten,\n",
    "                                    GlobalMaxPool1D)\n",
    "from tensorflow.keras.optimizers import Adam\n",
    "from tensorflow.keras.callbacks import ModelCheckpoint, ReduceLROnPlateau\n",
    "from nltk.tokenize import word_tokenize\n",
    "from sklearn.model_selection import train_test_split\n",
    "\n",
    "from operator import itemgetter\n",
    "import string\n",
    "from tqdm import tqdm\n",
    "import re"
   ]
  },
  {
   "cell_type": "code",
   "execution_count": 2,
   "id": "8e2a7ece",
   "metadata": {},
   "outputs": [
    {
     "name": "stderr",
     "output_type": "stream",
     "text": [
      "[nltk_data] Downloading package stopwords to\n",
      "[nltk_data]     C:\\Users\\windo\\AppData\\Roaming\\nltk_data...\n",
      "[nltk_data]   Package stopwords is already up-to-date!\n",
      "[nltk_data] Downloading package punkt to\n",
      "[nltk_data]     C:\\Users\\windo\\AppData\\Roaming\\nltk_data...\n",
      "[nltk_data]   Package punkt is already up-to-date!\n"
     ]
    },
    {
     "data": {
      "text/plain": [
       "True"
      ]
     },
     "execution_count": 2,
     "metadata": {},
     "output_type": "execute_result"
    }
   ],
   "source": [
    "from nltk import download\n",
    "from nltk.corpus import stopwords\n",
    "download('stopwords')\n",
    "download('punkt')"
   ]
  },
  {
   "cell_type": "markdown",
   "id": "bc4e0834",
   "metadata": {},
   "source": [
    "# Classifying tweets as disaster related using Recurrent Nueral Networks and Natural Language Processing\n",
    "\n",
    "This project will be broken up into the following sections:\n",
    "\n",
    "1. Problem Exploration and Description of Data\n",
    "2. Exploratory Data Analysis and Data Cleaning\n",
    "3. Initial Model Architecture\n",
    "4. Analysis of Initial Architecture\n",
    "5. Alternate Architecture and Hyper Parameter Tuning\n",
    "6. Conclusion"
   ]
  },
  {
   "cell_type": "markdown",
   "id": "5244302d",
   "metadata": {},
   "source": [
    "## Problem Exploration and Description of Data"
   ]
  },
  {
   "cell_type": "code",
   "execution_count": 3,
   "id": "ef2e8cb7",
   "metadata": {},
   "outputs": [],
   "source": [
    "df = pd.read_csv(\"nlp-getting-started\\\\train.csv\")\n",
    "test = pd.read_csv(\"nlp-getting-started\\\\test.csv\")"
   ]
  },
  {
   "cell_type": "code",
   "execution_count": 4,
   "id": "f4d109a9",
   "metadata": {},
   "outputs": [
    {
     "data": {
      "text/html": [
       "<div>\n",
       "<style scoped>\n",
       "    .dataframe tbody tr th:only-of-type {\n",
       "        vertical-align: middle;\n",
       "    }\n",
       "\n",
       "    .dataframe tbody tr th {\n",
       "        vertical-align: top;\n",
       "    }\n",
       "\n",
       "    .dataframe thead th {\n",
       "        text-align: right;\n",
       "    }\n",
       "</style>\n",
       "<table border=\"1\" class=\"dataframe\">\n",
       "  <thead>\n",
       "    <tr style=\"text-align: right;\">\n",
       "      <th></th>\n",
       "      <th>id</th>\n",
       "      <th>keyword</th>\n",
       "      <th>location</th>\n",
       "      <th>text</th>\n",
       "      <th>target</th>\n",
       "    </tr>\n",
       "  </thead>\n",
       "  <tbody>\n",
       "    <tr>\n",
       "      <th>0</th>\n",
       "      <td>1</td>\n",
       "      <td>NaN</td>\n",
       "      <td>NaN</td>\n",
       "      <td>Our Deeds are the Reason of this #earthquake M...</td>\n",
       "      <td>1</td>\n",
       "    </tr>\n",
       "    <tr>\n",
       "      <th>1</th>\n",
       "      <td>4</td>\n",
       "      <td>NaN</td>\n",
       "      <td>NaN</td>\n",
       "      <td>Forest fire near La Ronge Sask. Canada</td>\n",
       "      <td>1</td>\n",
       "    </tr>\n",
       "    <tr>\n",
       "      <th>2</th>\n",
       "      <td>5</td>\n",
       "      <td>NaN</td>\n",
       "      <td>NaN</td>\n",
       "      <td>All residents asked to 'shelter in place' are ...</td>\n",
       "      <td>1</td>\n",
       "    </tr>\n",
       "    <tr>\n",
       "      <th>3</th>\n",
       "      <td>6</td>\n",
       "      <td>NaN</td>\n",
       "      <td>NaN</td>\n",
       "      <td>13,000 people receive #wildfires evacuation or...</td>\n",
       "      <td>1</td>\n",
       "    </tr>\n",
       "    <tr>\n",
       "      <th>4</th>\n",
       "      <td>7</td>\n",
       "      <td>NaN</td>\n",
       "      <td>NaN</td>\n",
       "      <td>Just got sent this photo from Ruby #Alaska as ...</td>\n",
       "      <td>1</td>\n",
       "    </tr>\n",
       "  </tbody>\n",
       "</table>\n",
       "</div>"
      ],
      "text/plain": [
       "   id keyword location                                               text  \\\n",
       "0   1     NaN      NaN  Our Deeds are the Reason of this #earthquake M...   \n",
       "1   4     NaN      NaN             Forest fire near La Ronge Sask. Canada   \n",
       "2   5     NaN      NaN  All residents asked to 'shelter in place' are ...   \n",
       "3   6     NaN      NaN  13,000 people receive #wildfires evacuation or...   \n",
       "4   7     NaN      NaN  Just got sent this photo from Ruby #Alaska as ...   \n",
       "\n",
       "   target  \n",
       "0       1  \n",
       "1       1  \n",
       "2       1  \n",
       "3       1  \n",
       "4       1  "
      ]
     },
     "execution_count": 4,
     "metadata": {},
     "output_type": "execute_result"
    }
   ],
   "source": [
    "df.head()"
   ]
  },
  {
   "cell_type": "code",
   "execution_count": 5,
   "id": "3117d687",
   "metadata": {},
   "outputs": [
    {
     "data": {
      "text/plain": [
       "id                                                        280\n",
       "keyword                                             ambulance\n",
       "location                                               Canada\n",
       "text        ÛÏ@LeoBlakeCarter: This dog thinks he's an am...\n",
       "target                                                      0\n",
       "Name: 199, dtype: object"
      ]
     },
     "execution_count": 5,
     "metadata": {},
     "output_type": "execute_result"
    }
   ],
   "source": [
    "df.iloc[199]"
   ]
  },
  {
   "cell_type": "markdown",
   "id": "a029e9b9",
   "metadata": {},
   "source": [
    "From each row we have 1 index value, 3 values of interest, and a target value. The 3 values of interest include a keyword, location, and the text body of the tweet."
   ]
  },
  {
   "cell_type": "code",
   "execution_count": 6,
   "id": "5fb11bfc",
   "metadata": {},
   "outputs": [
    {
     "name": "stdout",
     "output_type": "stream",
     "text": [
      "There are 7613 training tweets and 3263 testing tweets.\n"
     ]
    }
   ],
   "source": [
    "print(f\"There are {df.shape[0]} training tweets and {test.shape[0]} testing tweets.\")"
   ]
  },
  {
   "cell_type": "markdown",
   "id": "bb0aee3e",
   "metadata": {},
   "source": [
    "## Exploratory Data Analysis and Data Cleaning"
   ]
  },
  {
   "cell_type": "code",
   "execution_count": 7,
   "id": "e6a13c8d",
   "metadata": {},
   "outputs": [
    {
     "name": "stdout",
     "output_type": "stream",
     "text": [
      "0    4342\n",
      "1    3271\n",
      "Name: target, dtype: int64\n"
     ]
    },
    {
     "data": {
      "image/png": "[encoded data removed]",
      "text/plain": [
       "<Figure size 432x288 with 1 Axes>"
      ]
     },
     "metadata": {
      "needs_background": "light"
     },
     "output_type": "display_data"
    }
   ],
   "source": [
    "counts = df[\"target\"].value_counts()\n",
    "sns.countplot(x = 'target', data = df)\n",
    "print(counts)"
   ]
  },
  {
   "cell_type": "code",
   "execution_count": 8,
   "id": "bc0bcf21",
   "metadata": {},
   "outputs": [
    {
     "data": {
      "text/plain": [
       "id             0\n",
       "keyword       61\n",
       "location    2533\n",
       "text           0\n",
       "target         0\n",
       "dtype: int64"
      ]
     },
     "execution_count": 8,
     "metadata": {},
     "output_type": "execute_result"
    }
   ],
   "source": [
    "df.isna().sum()"
   ]
  },
  {
   "cell_type": "markdown",
   "id": "ad550111",
   "metadata": {},
   "source": [
    "We see that the location is missing for approximately 33% of the tweets, keyword is missing in less than 1% of tweets."
   ]
  },
  {
   "cell_type": "code",
   "execution_count": 9,
   "id": "70135078",
   "metadata": {},
   "outputs": [
    {
     "data": {
      "text/plain": [
       "<AxesSubplot:xlabel='word_len', ylabel='Density'>"
      ]
     },
     "execution_count": 9,
     "metadata": {},
     "output_type": "execute_result"
    },
    {
     "data": {
      "image/png": "[encoded data removed]",
      "text/plain": [
       "<Figure size 432x288 with 1 Axes>"
      ]
     },
     "metadata": {
      "needs_background": "light"
     },
     "output_type": "display_data"
    }
   ],
   "source": [
    "df['word_len'] = df['text'].str.split(' ').apply(len)\n",
    "df['char_len'] = df['text'].apply(len)\n",
    "sns.kdeplot(x = 'word_len', data = df, hue = 'target')"
   ]
  },
  {
   "cell_type": "markdown",
   "id": "92f4ab30",
   "metadata": {},
   "source": [
    "Here we can see that the length of the tweet may have some effect on classifying the tween as a disaster or non disaster. But the majority of tweets in both categories fall in the normal distribution range."
   ]
  },
  {
   "cell_type": "code",
   "execution_count": 10,
   "id": "d1b252dd",
   "metadata": {},
   "outputs": [],
   "source": [
    "# Create list with every word from tweets in disaster group and non disaster group\n",
    "def word_list(dataset, truth_value):\n",
    "    '''\n",
    "    Return a list that contains every word in every tweet that has the same target value as the truth_value param\n",
    "    '''\n",
    "    l = []\n",
    "    for split_tweet in dataset.loc[dataset['target'] == truth_value, 'text'].str.split():\n",
    "        for word in split_tweet:\n",
    "            l.append(word)\n",
    "    return l\n",
    "\n",
    "disaster_word_list = word_list(df, 1)\n",
    "non_disaster_word_list = word_list(df, 0)"
   ]
  },
  {
   "cell_type": "code",
   "execution_count": 11,
   "id": "69ed8a83",
   "metadata": {},
   "outputs": [],
   "source": [
    "def word_list_to_dict(word_list):\n",
    "    count_dict = {}\n",
    "    for word in word_list:\n",
    "        if word in count_dict:\n",
    "            count_dict[word] += 1\n",
    "        else:\n",
    "            count_dict[word] = 1\n",
    "    return count_dict\n",
    "\n",
    "disaster_count_dict = word_list_to_dict(disaster_word_list)\n",
    "non_disaster_count_dict = word_list_to_dict(non_disaster_word_list)\n"
   ]
  },
  {
   "cell_type": "code",
   "execution_count": 12,
   "id": "2b48c1f1",
   "metadata": {},
   "outputs": [],
   "source": [
    "def top_x_from_dict(count_dict, x):\n",
    "    return sorted(count_dict.items(), key = itemgetter(1), reverse = True)[:x]"
   ]
  },
  {
   "cell_type": "code",
   "execution_count": 13,
   "id": "b07a8111",
   "metadata": {},
   "outputs": [],
   "source": [
    "top_disaster = top_x_from_dict(disaster_count_dict, 25)\n",
    "top_non_disaster = top_x_from_dict(non_disaster_count_dict, 25)"
   ]
  },
  {
   "cell_type": "code",
   "execution_count": 14,
   "id": "c4c70b37",
   "metadata": {},
   "outputs": [
    {
     "name": "stdout",
     "output_type": "stream",
     "text": [
      "In disaster tweets the top 25 words are as follows:\n",
      "1 : ('the', 1051)\n",
      "2 : ('in', 1037)\n",
      "3 : ('of', 888)\n",
      "4 : ('a', 730)\n",
      "5 : ('to', 706)\n",
      "6 : ('and', 462)\n",
      "7 : ('-', 389)\n",
      "8 : ('on', 386)\n",
      "9 : ('for', 368)\n",
      "10 : ('is', 302)\n",
      "11 : ('at', 273)\n",
      "12 : ('I', 259)\n",
      "13 : ('The', 257)\n",
      "14 : ('by', 244)\n",
      "15 : ('from', 206)\n",
      "16 : ('A', 167)\n",
      "17 : ('that', 166)\n",
      "18 : ('with', 159)\n",
      "19 : ('was', 158)\n",
      "20 : ('are', 150)\n",
      "21 : ('it', 143)\n",
      "22 : ('after', 140)\n",
      "23 : ('as', 139)\n",
      "24 : ('have', 134)\n",
      "25 : ('via', 115)\n"
     ]
    }
   ],
   "source": [
    "print(f\"In disaster tweets the top {len(top_disaster)} words are as follows:\")\n",
    "for i in range(len(top_disaster)):\n",
    "    print(f\"{i + 1} : {top_disaster[i]}\")"
   ]
  },
  {
   "cell_type": "code",
   "execution_count": 15,
   "id": "93a7e8c7",
   "metadata": {},
   "outputs": [
    {
     "name": "stdout",
     "output_type": "stream",
     "text": [
      "In disaster tweets the top 25 words are as follows:\n",
      "1 : ('the', 1524)\n",
      "2 : ('a', 1115)\n",
      "3 : ('to', 1099)\n",
      "4 : ('I', 938)\n",
      "5 : ('and', 840)\n",
      "6 : ('of', 834)\n",
      "7 : ('in', 720)\n",
      "8 : ('you', 529)\n",
      "9 : ('is', 512)\n",
      "10 : ('for', 452)\n",
      "11 : ('my', 442)\n",
      "12 : ('on', 387)\n",
      "13 : ('-', 374)\n",
      "14 : ('with', 349)\n",
      "15 : ('that', 326)\n",
      "16 : ('The', 295)\n",
      "17 : ('it', 290)\n",
      "18 : ('be', 268)\n",
      "19 : ('like', 233)\n",
      "20 : ('this', 225)\n",
      "21 : ('by', 225)\n",
      "22 : ('have', 219)\n",
      "23 : ('at', 212)\n",
      "24 : ('was', 205)\n",
      "25 : ('your', 201)\n"
     ]
    }
   ],
   "source": [
    "print(f\"In disaster tweets the top {len(top_non_disaster)} words are as follows:\")\n",
    "for i in range(len(top_non_disaster)):\n",
    "    print(f\"{i + 1} : {top_non_disaster[i]}\")"
   ]
  },
  {
   "cell_type": "markdown",
   "id": "a22bc974",
   "metadata": {},
   "source": [
    "For both disaster and non-disaster portions of the dataset the top words are \"function\" words, which can carry meaning in a communicative context, but we will interfere with our models ability to asses tweets. Thus one element of our data cleaning will be removing these words from the tweets. In the natural language processing world, these words are often reffered to as stop words."
   ]
  },
  {
   "cell_type": "markdown",
   "id": "1af77a02",
   "metadata": {},
   "source": [
    "In this same mode of thinking we need to remove punctuation from all of these tweets and change all of the tweets to lower case as this can cause issues with the vectorization of tweets."
   ]
  },
  {
   "cell_type": "code",
   "execution_count": 16,
   "id": "b56c9dde",
   "metadata": {},
   "outputs": [],
   "source": [
    "#Remove punctuation and change all tweets to lower case\n",
    "def punctuation_lower(in_string):\n",
    "    in_string = in_string.lower()\n",
    "    in_string = in_string.translate(str.maketrans('', '', string.punctuation))\n",
    "    return in_string"
   ]
  },
  {
   "cell_type": "code",
   "execution_count": 17,
   "id": "f37a7b1f",
   "metadata": {},
   "outputs": [
    {
     "data": {
      "text/plain": [
       "'hello youre the best'"
      ]
     },
     "execution_count": 17,
     "metadata": {},
     "output_type": "execute_result"
    }
   ],
   "source": [
    "punctuation_lower(\"HELLO! YOuRE t*/?he BEst!\")"
   ]
  },
  {
   "cell_type": "code",
   "execution_count": 18,
   "id": "34d921ab",
   "metadata": {},
   "outputs": [
    {
     "name": "stdout",
     "output_type": "stream",
     "text": [
      "7613\n"
     ]
    }
   ],
   "source": [
    "print(len(df['text']))"
   ]
  },
  {
   "cell_type": "code",
   "execution_count": 97,
   "id": "b5a98c37",
   "metadata": {},
   "outputs": [
    {
     "data": {
      "text/plain": [
       "0         deeds reason earthquake may allah forgive us\n",
       "1                forest fire near la ronge sask canada\n",
       "2    residents asked shelter place notified officer...\n",
       "3     people receive wildfires evacuation orders ca...\n",
       "4    got sent photo ruby alaska smoke wildfires pou...\n",
       "Name: text, dtype: object"
      ]
     },
     "execution_count": 97,
     "metadata": {},
     "output_type": "execute_result"
    }
   ],
   "source": [
    "# The clean text and remove emoji functions were borrowed from this notebook:\n",
    "# https://www.kaggle.com/code/mariapushkareva/nlp-disaster-tweets-with-glove-and-lstm/notebook#Model\n",
    "# I'm not great with regular expressions, nor do I have much NLP experience so this was something that I\n",
    "# probably could not have accomplished on my own.\n",
    "\n",
    "def clean_text(text):\n",
    "    '''Make text lowercase, remove text in square brackets,remove links,remove punctuation\n",
    "    and remove words containing numbers.'''\n",
    "    text = text.lower()\n",
    "    text = re.sub('\\[.*?\\]', '', text)\n",
    "    text = re.sub('https?://\\S+|www\\.\\S+', '', text)\n",
    "    text = re.sub('<.*?>+', '', text)\n",
    "    text = re.sub('[%s]' % re.escape(string.punctuation), '', text)\n",
    "    text = re.sub('\\n', '', text)\n",
    "    text = re.sub('\\w*\\d\\w*', '', text)\n",
    "    return text\n",
    "\n",
    "df['text'] = df['text'].apply(lambda x: clean_text(x))\n",
    "\n",
    "\n",
    "def remove_emoji(text):\n",
    "    emoji_pattern = re.compile(\"[\"\n",
    "                           u\"\\U0001F600-\\U0001F64F\"  # emoticons\n",
    "                           u\"\\U0001F300-\\U0001F5FF\"  # symbols & pictographs\n",
    "                           u\"\\U0001F680-\\U0001F6FF\"  # transport & map symbols\n",
    "                           u\"\\U0001F1E0-\\U0001F1FF\"  # flags (iOS)\n",
    "                           u\"\\U00002702-\\U000027B0\"\n",
    "                           u\"\\U000024C2-\\U0001F251\"\n",
    "                           \"]+\", flags=re.UNICODE)\n",
    "    return emoji_pattern.sub(r'', text)\n",
    "df['text']=df['text'].apply(lambda x: remove_emoji(x))\n",
    "\n",
    "def remove_stop_words(text):\n",
    "    stop_words_list = stopwords.words('english')\n",
    "    text = ' '.join(word for word in text.split(' ') if word not in stop_words_list)\n",
    "    return text\n",
    "\n",
    "df['text'] = df['text'].apply(lambda x: remove_stop_words(x))\n",
    "\n",
    "df['text'].head()"
   ]
  },
  {
   "cell_type": "code",
   "execution_count": 98,
   "id": "4bb0f47f",
   "metadata": {},
   "outputs": [],
   "source": [
    "texts = df.text.values\n",
    "word_tokenizer = Tokenizer()\n",
    "word_tokenizer.fit_on_texts(texts)\n",
    "len_vocab = len(word_tokenizer.word_index) + 1"
   ]
  },
  {
   "cell_type": "code",
   "execution_count": 99,
   "id": "e8af9797",
   "metadata": {},
   "outputs": [
    {
     "name": "stdout",
     "output_type": "stream",
     "text": [
      "16701\n"
     ]
    }
   ],
   "source": [
    "print(len_vocab)"
   ]
  },
  {
   "cell_type": "code",
   "execution_count": 100,
   "id": "389e7afe",
   "metadata": {},
   "outputs": [],
   "source": [
    "def embed(corpus):\n",
    "    return word_tokenizer.texts_to_sequences(corpus)"
   ]
  },
  {
   "cell_type": "code",
   "execution_count": 101,
   "id": "862d6b8e",
   "metadata": {},
   "outputs": [
    {
     "name": "stdout",
     "output_type": "stream",
     "text": [
      "rite man tlk widout nuh curfew long side aka cum fi steal di show itz rubbery di whole dem fi knw sound music\n",
      "[4165  723  142   53 1512 4166   12    0    0    0    0    0    0    0\n",
      "    0    0    0    0    0    0    0    0    0]\n"
     ]
    }
   ],
   "source": [
    "# Padding tweets\n",
    "longest_tweet = max(texts, key = lambda sentence: len(word_tokenize(sentence)))\n",
    "print(longest_tweet)\n",
    "length_longest_tweet = len(word_tokenize(longest_tweet))\n",
    "padded_sentences = pad_sequences(embed(texts), length_longest_tweet, padding ='post')\n",
    "print(padded_sentences[0])"
   ]
  },
  {
   "cell_type": "markdown",
   "id": "9a1c37bf",
   "metadata": {},
   "source": [
    "The longest tweet printed above illuminates a difficult issue beyond the scope of this assignment, lexically speaking the vernacular used here will not be captured by the embedding. So we are going to be unable to properly classify this tweet."
   ]
  },
  {
   "cell_type": "code",
   "execution_count": 102,
   "id": "4de81059",
   "metadata": {},
   "outputs": [],
   "source": [
    "#Glove\n",
    "embeddings_dictionary = dict()\n",
    "embedding_dim = 100\n",
    "glove_file = open(\".\\\\glove.6B\\\\glove.6B.100d.txt\", 'r', encoding = 'utf8')\n",
    "for line in glove_file:\n",
    "    records = line.split()\n",
    "    word = records[0]\n",
    "    vector_dimensions = np.asarray(records[1:], dtype='float32')\n",
    "    embeddings_dictionary [word] = vector_dimensions\n",
    "glove_file.close()"
   ]
  },
  {
   "cell_type": "code",
   "execution_count": 103,
   "id": "cc1b62c4",
   "metadata": {},
   "outputs": [
    {
     "name": "stdout",
     "output_type": "stream",
     "text": [
      "(16701, 100)\n"
     ]
    }
   ],
   "source": [
    "#Embedding Matrix\n",
    "embedding_matrix = np.zeros((len_vocab, embedding_dim))\n",
    "for word, index in word_tokenizer.word_index.items():\n",
    "    embedding_vector = embeddings_dictionary.get(word)\n",
    "    if embedding_vector is not None:\n",
    "        embedding_matrix[index] = embedding_vector\n",
    "print(embedding_matrix.shape)"
   ]
  },
  {
   "cell_type": "code",
   "execution_count": 104,
   "id": "01d56179",
   "metadata": {},
   "outputs": [],
   "source": [
    "X_train, X_val, y_train, y_val = train_test_split(\n",
    "    padded_sentences,\n",
    "    df[\"target\"].values,\n",
    "    test_size = 0.25,\n",
    "    random_state = 789\n",
    ")"
   ]
  },
  {
   "cell_type": "code",
   "execution_count": 105,
   "id": "7e111437",
   "metadata": {},
   "outputs": [
    {
     "name": "stdout",
     "output_type": "stream",
     "text": [
      "5709 5709\n",
      "1904 1904\n"
     ]
    }
   ],
   "source": [
    "print(len(X_train), len(y_train))\n",
    "print(len(X_val), len(y_val))"
   ]
  },
  {
   "cell_type": "markdown",
   "id": "64bc20b7",
   "metadata": {},
   "source": [
    "## Initial Model Architecture"
   ]
  },
  {
   "cell_type": "markdown",
   "id": "79c3edb7",
   "metadata": {},
   "source": [
    "The first rendition of our model architecture incorporates only basic elements to get the model off the ground and working. We have an embedding layer that handles our Glove embedding, a bidirectional GRU layer, a hidden dense layer, and our output layer.\n",
    "\n",
    "The GRU layer was chosen over the LSTM layer because the length of the datasets aren't incredibly long, and in light of this being our first rendition, speed is of more concern than accuracy. Also our dataset is very small, which favors the GRU cell.\n",
    "\n",
    "Bidirectionality was chosen for the GRU layer because the lexical meaning of words exists in a bidirectional manner. A word after another word can change the meaning of the first word, thus we want to be considering the implications of interactions in both directions.\n",
    "\n",
    "Finally we have chosen the adam optimizer and binary_crossentropy as our loss function. Binary crossentropy was chosen because we are classifying into a binary final form, and Adam optimization was chosen for it's generally high performance in a wide variety of applications. Of these two switching from Adam to an optimizer with better sequence analysis capabilities will most likely yield better results."
   ]
  },
  {
   "cell_type": "code",
   "execution_count": 106,
   "id": "2244791f",
   "metadata": {},
   "outputs": [
    {
     "name": "stdout",
     "output_type": "stream",
     "text": [
      "Model: \"sequential_10\"\n",
      "_________________________________________________________________\n",
      "Layer (type)                 Output Shape              Param #   \n",
      "=================================================================\n",
      "embedding_10 (Embedding)     (None, 23, 100)           1670100   \n",
      "_________________________________________________________________\n",
      "bidirectional_10 (Bidirectio (None, 23, 46)            17250     \n",
      "_________________________________________________________________\n",
      "dense_24 (Dense)             (None, 23, 23)            1081      \n",
      "_________________________________________________________________\n",
      "dense_25 (Dense)             (None, 23, 1)             24        \n",
      "=================================================================\n",
      "Total params: 1,688,455\n",
      "Trainable params: 1,688,455\n",
      "Non-trainable params: 0\n",
      "_________________________________________________________________\n"
     ]
    }
   ],
   "source": [
    "def model_1():\n",
    "    model = Sequential()\n",
    "    \n",
    "    model.add(Embedding(\n",
    "        input_dim = embedding_matrix.shape[0],\n",
    "        output_dim = embedding_matrix.shape[1],\n",
    "        weights = [embedding_matrix],\n",
    "        input_length = length_longest_tweet\n",
    "    ))\n",
    "    \n",
    "#    model.add(Bidirectional(LSTM(\n",
    "#        length_longest_tweet,\n",
    "#        return_sequences = True,\n",
    "#        recurrent_dropout = 0.2\n",
    "#    )))\n",
    "    \n",
    "    model.add(Bidirectional(GRU(\n",
    "        length_longest_tweet,\n",
    "        return_sequences = True,\n",
    "        recurrent_dropout = 0.2\n",
    "    )))\n",
    "    \n",
    "    model.add(Dense(length_longest_tweet, activation = 'relu'))\n",
    "    model.add(Dense(1, activation = 'sigmoid'))\n",
    "    model.compile(optimizer = 'adam', loss = 'binary_crossentropy', metrics = ['accuracy'])\n",
    "    \n",
    "    return model\n",
    "\n",
    "model1 = model_1()\n",
    "model1.summary()"
   ]
  },
  {
   "cell_type": "code",
   "execution_count": 107,
   "id": "92041286",
   "metadata": {},
   "outputs": [
    {
     "name": "stdout",
     "output_type": "stream",
     "text": [
      "Epoch 1/10\n",
      "179/179 [==============================] - 6s 31ms/step - loss: 0.5232 - accuracy: 0.7479 - val_loss: 0.4606 - val_accuracy: 0.7989\n",
      "Epoch 2/10\n",
      "179/179 [==============================] - 5s 29ms/step - loss: 0.3824 - accuracy: 0.8423 - val_loss: 0.4444 - val_accuracy: 0.8106\n",
      "Epoch 3/10\n",
      "179/179 [==============================] - 5s 28ms/step - loss: 0.2986 - accuracy: 0.8842 - val_loss: 0.4637 - val_accuracy: 0.8085\n",
      "Epoch 4/10\n",
      "179/179 [==============================] - 5s 28ms/step - loss: 0.2072 - accuracy: 0.9230 - val_loss: 0.5321 - val_accuracy: 0.7833\n",
      "Epoch 5/10\n",
      "179/179 [==============================] - 5s 29ms/step - loss: 0.1324 - accuracy: 0.9545 - val_loss: 0.6444 - val_accuracy: 0.7782\n",
      "Epoch 6/10\n",
      "179/179 [==============================] - 5s 29ms/step - loss: 0.0990 - accuracy: 0.9659 - val_loss: 0.6911 - val_accuracy: 0.7637\n",
      "Epoch 7/10\n",
      "179/179 [==============================] - 5s 28ms/step - loss: 0.0779 - accuracy: 0.9738 - val_loss: 0.7635 - val_accuracy: 0.7866\n",
      "Epoch 8/10\n",
      "179/179 [==============================] - 5s 29ms/step - loss: 0.0698 - accuracy: 0.9752 - val_loss: 0.7388 - val_accuracy: 0.7650\n",
      "Epoch 9/10\n",
      "179/179 [==============================] - 5s 30ms/step - loss: 0.0583 - accuracy: 0.9796 - val_loss: 0.7518 - val_accuracy: 0.7789\n",
      "Epoch 10/10\n",
      "179/179 [==============================] - 5s 29ms/step - loss: 0.0646 - accuracy: 0.9771 - val_loss: 0.7568 - val_accuracy: 0.7663\n"
     ]
    }
   ],
   "source": [
    "checkpoint = ModelCheckpoint(\n",
    "    'model1.h5',\n",
    "    monitor = 'val_loss',\n",
    "    verbose = 0,\n",
    "    save_best_only = True\n",
    ")\n",
    "\n",
    "reduce_lr = ReduceLROnPlateau(\n",
    "    monitor = 'val_loss',\n",
    "    factor = 0.2,\n",
    "    verbose = 0,\n",
    "    patience = 5,\n",
    "    min_lr = 0.001\n",
    ")\n",
    "\n",
    "history = model1.fit(\n",
    "    X_train,\n",
    "    y_train,\n",
    "    epochs = 10,\n",
    "    batch_size = 32, \n",
    "    validation_data = (X_val, y_val),\n",
    "    verbose = 1,\n",
    "    callbacks = [reduce_lr, checkpoint]\n",
    ")"
   ]
  },
  {
   "cell_type": "markdown",
   "id": "27e4a600",
   "metadata": {},
   "source": [
    "## Analysis of Initial Architecture Performance"
   ]
  },
  {
   "cell_type": "markdown",
   "id": "41e422d8",
   "metadata": {},
   "source": [
    "To be blunt, our first model performed poorly in terms of training. While the training loss and accuracy were both very favorable, the validation performance told a story of extreme overfitting. Our model failed to improve on the validation loss after the second epoch and even rose ~30%, this indicates that the continued training of our model is only cementing the training data into it's nuerons and not recognizing patterns. For our next architectures we will have to address the overfitting issues.\n",
    "\n",
    "This being said, it appears that our data cleaning efforts were successful because the initial performance of the model was somewhat favorable with a validation accuracy above 70%."
   ]
  },
  {
   "cell_type": "code",
   "execution_count": 108,
   "id": "5443579e",
   "metadata": {},
   "outputs": [
    {
     "data": {
      "image/png": "[encoded data removed]",
      "text/plain": [
       "<Figure size 1260x360 with 2 Axes>"
      ]
     },
     "metadata": {},
     "output_type": "display_data"
    }
   ],
   "source": [
    "def plot_model_performance(performance):\n",
    "    performance_loss_df = pd.DataFrame()\n",
    "    performance_accuracy_df = pd.DataFrame()\n",
    "    performance_loss_df[\"loss\"] = performance.history['loss']\n",
    "    performance_loss_df[\"val_loss\"] = performance.history['val_loss']\n",
    "    performance_accuracy_df[\"accuracy\"] = performance.history['accuracy']\n",
    "    performance_accuracy_df[\"val_accuracy\"] = performance.history['val_accuracy']\n",
    "    \n",
    "    sns.set()\n",
    "    sns.set_palette(sns.color_palette(\"Set2\"))\n",
    "    fig, axes = plt.subplots(1, 2, figsize=(17.5, 5))\n",
    "    sns.lineplot(data = performance_loss_df,  ax = axes[0])\n",
    "    sns.lineplot(data = performance_accuracy_df, ax = axes[1])\n",
    "    axes[0].set_xlabel('Epoch',fontsize=14)\n",
    "    axes[0].set_ylabel('Loss',fontsize=14)\n",
    "    axes[0].set_title('Loss for Train and Validation', fontsize = 16)\n",
    "    axes[1].set_xlabel('Epoch',fontsize=14)\n",
    "    axes[1].set_ylabel('Accuracy')\n",
    "    axes[1].set_title('Accuracy for Train and Validation', fontsize = 16)\n",
    "    \n",
    "plot_model_performance(history)"
   ]
  },
  {
   "cell_type": "markdown",
   "id": "a73e6517",
   "metadata": {},
   "source": [
    "## Alternate Architecture and Hyper Parameter Tuning"
   ]
  },
  {
   "cell_type": "markdown",
   "id": "fb214861",
   "metadata": {},
   "source": [
    "For our first rendition we are going to make 2 changes, first we are going to try an LSTM approach instead of the GRU to see if there are any long sequence patterns we were missing, and second we will add some normilization to the post RNN section of the model. Our normilization efforst will be in the form of a GlobalMaxPool, which will take only the higest cell value at each timestamp. Next the BatchNormalization will normalize each batch in the epoch, helping to create a balanced environment for training the model."
   ]
  },
  {
   "cell_type": "code",
   "execution_count": 109,
   "id": "3defcb4a",
   "metadata": {},
   "outputs": [
    {
     "name": "stdout",
     "output_type": "stream",
     "text": [
      "Model: \"sequential_11\"\n",
      "_________________________________________________________________\n",
      "Layer (type)                 Output Shape              Param #   \n",
      "=================================================================\n",
      "embedding_11 (Embedding)     (None, 23, 100)           1670100   \n",
      "_________________________________________________________________\n",
      "bidirectional_11 (Bidirectio (None, 23, 46)            22816     \n",
      "_________________________________________________________________\n",
      "global_max_pooling1d_9 (Glob (None, 46)                0         \n",
      "_________________________________________________________________\n",
      "batch_normalization_9 (Batch (None, 46)                184       \n",
      "_________________________________________________________________\n",
      "dense_26 (Dense)             (None, 23)                1081      \n",
      "_________________________________________________________________\n",
      "dense_27 (Dense)             (None, 1)                 24        \n",
      "=================================================================\n",
      "Total params: 1,694,205\n",
      "Trainable params: 1,694,113\n",
      "Non-trainable params: 92\n",
      "_________________________________________________________________\n"
     ]
    }
   ],
   "source": [
    "def model_2():\n",
    "    model = Sequential()\n",
    "    \n",
    "    model.add(Embedding(\n",
    "        input_dim = embedding_matrix.shape[0],\n",
    "        output_dim = embedding_matrix.shape[1],\n",
    "        weights = [embedding_matrix],\n",
    "        input_length = length_longest_tweet\n",
    "    ))\n",
    "    \n",
    "    model.add(Bidirectional(LSTM(\n",
    "        length_longest_tweet,\n",
    "        return_sequences = True,\n",
    "        recurrent_dropout = 0.2\n",
    "    )))\n",
    "\n",
    "    \n",
    "    model.add(GlobalMaxPool1D())\n",
    "    model.add(BatchNormalization())\n",
    "    model.add(Dense(length_longest_tweet, activation = 'relu'))\n",
    "    model.add(Dense(1, activation = 'sigmoid'))\n",
    "    model.compile(optimizer = 'adam', loss = 'binary_crossentropy', metrics = ['accuracy'])\n",
    "    \n",
    "    return model\n",
    "\n",
    "model2 = model_2()\n",
    "model2.summary()"
   ]
  },
  {
   "cell_type": "code",
   "execution_count": 110,
   "id": "1b406f1f",
   "metadata": {},
   "outputs": [
    {
     "name": "stdout",
     "output_type": "stream",
     "text": [
      "Epoch 1/10\n",
      "179/179 [==============================] - ETA: 0s - loss: 0.5083 - accuracy: 0.7486\n",
      "Epoch 00001: val_loss improved from inf to 0.52223, saving model to model2.h5\n",
      "179/179 [==============================] - 6s 35ms/step - loss: 0.5083 - accuracy: 0.7486 - val_loss: 0.5222 - val_accuracy: 0.7836\n",
      "Epoch 2/10\n",
      "179/179 [==============================] - ETA: 0s - loss: 0.3593 - accuracy: 0.8467\n",
      "Epoch 00002: val_loss improved from 0.52223 to 0.45046, saving model to model2.h5\n",
      "179/179 [==============================] - 5s 30ms/step - loss: 0.3593 - accuracy: 0.8467 - val_loss: 0.4505 - val_accuracy: 0.7999\n",
      "Epoch 3/10\n",
      "179/179 [==============================] - ETA: 0s - loss: 0.2753 - accuracy: 0.8902\n",
      "Epoch 00003: val_loss did not improve from 0.45046\n",
      "179/179 [==============================] - 6s 33ms/step - loss: 0.2753 - accuracy: 0.8902 - val_loss: 0.4563 - val_accuracy: 0.8025\n",
      "Epoch 4/10\n",
      "179/179 [==============================] - ETA: 0s - loss: 0.1926 - accuracy: 0.9298\n",
      "Epoch 00004: val_loss did not improve from 0.45046\n",
      "179/179 [==============================] - 6s 32ms/step - loss: 0.1926 - accuracy: 0.9298 - val_loss: 0.5291 - val_accuracy: 0.7815\n",
      "Epoch 5/10\n",
      "179/179 [==============================] - ETA: 0s - loss: 0.1311 - accuracy: 0.9529\n",
      "Epoch 00005: val_loss did not improve from 0.45046\n",
      "179/179 [==============================] - 6s 31ms/step - loss: 0.1311 - accuracy: 0.9529 - val_loss: 0.5755 - val_accuracy: 0.7925\n",
      "Epoch 6/10\n",
      "179/179 [==============================] - ETA: 0s - loss: 0.1040 - accuracy: 0.9660\n",
      "Epoch 00006: val_loss did not improve from 0.45046\n",
      "179/179 [==============================] - 6s 34ms/step - loss: 0.1040 - accuracy: 0.9660 - val_loss: 0.6289 - val_accuracy: 0.7831\n",
      "Epoch 7/10\n",
      "179/179 [==============================] - ETA: 0s - loss: 0.0784 - accuracy: 0.9721\n",
      "Epoch 00007: ReduceLROnPlateau reducing learning rate to 0.001.\n",
      "\n",
      "Epoch 00007: val_loss did not improve from 0.45046\n",
      "179/179 [==============================] - 6s 33ms/step - loss: 0.0784 - accuracy: 0.9721 - val_loss: 0.6744 - val_accuracy: 0.7878\n",
      "Epoch 8/10\n",
      "179/179 [==============================] - ETA: 0s - loss: 0.0656 - accuracy: 0.9765\n",
      "Epoch 00008: val_loss did not improve from 0.45046\n",
      "179/179 [==============================] - 6s 33ms/step - loss: 0.0656 - accuracy: 0.9765 - val_loss: 0.7187 - val_accuracy: 0.7679\n",
      "Epoch 9/10\n",
      "179/179 [==============================] - ETA: 0s - loss: 0.0594 - accuracy: 0.9799\n",
      "Epoch 00009: val_loss did not improve from 0.45046\n",
      "179/179 [==============================] - 6s 33ms/step - loss: 0.0594 - accuracy: 0.9799 - val_loss: 0.7628 - val_accuracy: 0.7831\n",
      "Epoch 10/10\n",
      "179/179 [==============================] - ETA: 0s - loss: 0.0522 - accuracy: 0.9807\n",
      "Epoch 00010: val_loss did not improve from 0.45046\n",
      "179/179 [==============================] - 6s 33ms/step - loss: 0.0522 - accuracy: 0.9807 - val_loss: 0.8194 - val_accuracy: 0.7773\n"
     ]
    }
   ],
   "source": [
    "checkpoint = ModelCheckpoint(\n",
    "    'model2.h5',\n",
    "    monitor = 'val_loss',\n",
    "    verbose = 1,\n",
    "    save_best_only = True\n",
    ")\n",
    "\n",
    "reduce_lr = ReduceLROnPlateau(\n",
    "    monitor = 'val_loss',\n",
    "    factor = 0.2,\n",
    "    verbose = 1,\n",
    "    patience = 5,\n",
    "    min_lr = 0.001\n",
    ")\n",
    "history2 = model2.fit(\n",
    "    X_train,\n",
    "    y_train,\n",
    "    epochs = 10,\n",
    "    batch_size = 32, \n",
    "    validation_data = (X_val, y_val),\n",
    "    verbose = 1,\n",
    "    callbacks = [reduce_lr, checkpoint]\n",
    ")"
   ]
  },
  {
   "cell_type": "code",
   "execution_count": 111,
   "id": "9b942c85",
   "metadata": {},
   "outputs": [
    {
     "data": {
      "image/png": "[encoded data removed]",
      "text/plain": [
       "<Figure size 1260x360 with 2 Axes>"
      ]
     },
     "metadata": {},
     "output_type": "display_data"
    }
   ],
   "source": [
    "plot_model_performance(history2)"
   ]
  },
  {
   "cell_type": "markdown",
   "id": "6fc01793",
   "metadata": {},
   "source": [
    "### Alternate Model 2 Review\n",
    "Our Model continues to be overfit, with little progress being made with our normilzation efforts. Additionally the LSTM vs. GRU appeared to offer no advantage, but increased the training time and resources."
   ]
  },
  {
   "cell_type": "code",
   "execution_count": 112,
   "id": "8578cc74",
   "metadata": {},
   "outputs": [
    {
     "name": "stdout",
     "output_type": "stream",
     "text": [
      "Model: \"sequential_12\"\n",
      "_________________________________________________________________\n",
      "Layer (type)                 Output Shape              Param #   \n",
      "=================================================================\n",
      "embedding_12 (Embedding)     (None, 23, 100)           1670100   \n",
      "_________________________________________________________________\n",
      "bidirectional_12 (Bidirectio (None, 23, 46)            17250     \n",
      "_________________________________________________________________\n",
      "global_max_pooling1d_10 (Glo (None, 46)                0         \n",
      "_________________________________________________________________\n",
      "batch_normalization_10 (Batc (None, 46)                184       \n",
      "_________________________________________________________________\n",
      "dropout_14 (Dropout)         (None, 46)                0         \n",
      "_________________________________________________________________\n",
      "dense_28 (Dense)             (None, 23)                1081      \n",
      "_________________________________________________________________\n",
      "dropout_15 (Dropout)         (None, 23)                0         \n",
      "_________________________________________________________________\n",
      "dense_29 (Dense)             (None, 1)                 24        \n",
      "=================================================================\n",
      "Total params: 1,688,639\n",
      "Trainable params: 1,688,547\n",
      "Non-trainable params: 92\n",
      "_________________________________________________________________\n"
     ]
    }
   ],
   "source": [
    "def model_3():\n",
    "    model = Sequential()\n",
    "    \n",
    "    model.add(Embedding(\n",
    "        input_dim = embedding_matrix.shape[0],\n",
    "        output_dim = embedding_matrix.shape[1],\n",
    "        weights = [embedding_matrix],\n",
    "        input_length = length_longest_tweet\n",
    "    ))\n",
    "    \n",
    "#    model.add(Bidirectional(LSTM(\n",
    "#        length_longest_tweet,\n",
    "#        return_sequences = True,\n",
    "#        recurrent_dropout = 0.2\n",
    "#    )))\n",
    "    \n",
    "    model.add(Bidirectional(GRU(\n",
    "        length_longest_tweet,\n",
    "        return_sequences = True,\n",
    "        recurrent_dropout = 0.2\n",
    "    )))\n",
    "    \n",
    "    model.add(GlobalMaxPool1D())\n",
    "    model.add(BatchNormalization())\n",
    "    model.add(Dropout(0.25))\n",
    "    model.add(Dense(length_longest_tweet, activation = 'relu'))\n",
    "    model.add(Dropout(0.5))\n",
    "    model.add(Dense(1, activation = 'sigmoid'))\n",
    "    model.compile(optimizer = 'rmsprop', loss = 'binary_crossentropy', metrics = ['accuracy'])\n",
    "    \n",
    "    return model\n",
    "\n",
    "model3 = model_3()\n",
    "model3.summary()"
   ]
  },
  {
   "cell_type": "code",
   "execution_count": 113,
   "id": "3a26a785",
   "metadata": {},
   "outputs": [
    {
     "name": "stdout",
     "output_type": "stream",
     "text": [
      "Epoch 1/10\n",
      "177/179 [============================>.] - ETA: 0s - loss: 0.6332 - accuracy: 0.6891\n",
      "Epoch 00001: val_loss improved from inf to 0.53374, saving model to model3.h5\n",
      "179/179 [==============================] - 5s 29ms/step - loss: 0.6343 - accuracy: 0.6889 - val_loss: 0.5337 - val_accuracy: 0.7652\n",
      "Epoch 2/10\n",
      "178/179 [============================>.] - ETA: 0s - loss: 0.4991 - accuracy: 0.7772\n",
      "Epoch 00002: val_loss improved from 0.53374 to 0.46107, saving model to model3.h5\n",
      "179/179 [==============================] - 5s 27ms/step - loss: 0.4984 - accuracy: 0.7777 - val_loss: 0.4611 - val_accuracy: 0.7910\n",
      "Epoch 3/10\n",
      "179/179 [==============================] - ETA: 0s - loss: 0.4501 - accuracy: 0.8026\n",
      "Epoch 00003: val_loss improved from 0.46107 to 0.45497, saving model to model3.h5\n",
      "179/179 [==============================] - 5s 27ms/step - loss: 0.4501 - accuracy: 0.8026 - val_loss: 0.4550 - val_accuracy: 0.7988\n",
      "Epoch 4/10\n",
      "179/179 [==============================] - ETA: 0s - loss: 0.4146 - accuracy: 0.8212\n",
      "Epoch 00004: val_loss did not improve from 0.45497\n",
      "179/179 [==============================] - 5s 27ms/step - loss: 0.4146 - accuracy: 0.8212 - val_loss: 0.4553 - val_accuracy: 0.7915\n",
      "Epoch 5/10\n",
      "179/179 [==============================] - ETA: 0s - loss: 0.3943 - accuracy: 0.8346\n",
      "Epoch 00005: val_loss improved from 0.45497 to 0.44888, saving model to model3.h5\n",
      "179/179 [==============================] - 5s 26ms/step - loss: 0.3943 - accuracy: 0.8346 - val_loss: 0.4489 - val_accuracy: 0.8078\n",
      "Epoch 6/10\n",
      "179/179 [==============================] - ETA: 0s - loss: 0.3557 - accuracy: 0.8518\n",
      "Epoch 00006: val_loss did not improve from 0.44888\n",
      "179/179 [==============================] - 5s 26ms/step - loss: 0.3557 - accuracy: 0.8518 - val_loss: 0.4710 - val_accuracy: 0.8009\n",
      "Epoch 7/10\n",
      "178/179 [============================>.] - ETA: 0s - loss: 0.3354 - accuracy: 0.8622\n",
      "Epoch 00007: val_loss did not improve from 0.44888\n",
      "179/179 [==============================] - 5s 27ms/step - loss: 0.3358 - accuracy: 0.8618 - val_loss: 0.4758 - val_accuracy: 0.8057\n",
      "Epoch 8/10\n",
      "179/179 [==============================] - ETA: 0s - loss: 0.3158 - accuracy: 0.8690\n",
      "Epoch 00008: val_loss did not improve from 0.44888\n",
      "179/179 [==============================] - 5s 26ms/step - loss: 0.3158 - accuracy: 0.8690 - val_loss: 0.5060 - val_accuracy: 0.8078\n",
      "Epoch 9/10\n",
      "177/179 [============================>.] - ETA: 0s - loss: 0.2981 - accuracy: 0.8768\n",
      "Epoch 00009: val_loss did not improve from 0.44888\n",
      "179/179 [==============================] - 5s 27ms/step - loss: 0.2968 - accuracy: 0.8774 - val_loss: 0.5136 - val_accuracy: 0.8030\n",
      "Epoch 10/10\n",
      "179/179 [==============================] - ETA: 0s - loss: 0.2632 - accuracy: 0.8921\n",
      "Epoch 00010: ReduceLROnPlateau reducing learning rate to 0.001.\n",
      "\n",
      "Epoch 00010: val_loss did not improve from 0.44888\n",
      "179/179 [==============================] - 5s 27ms/step - loss: 0.2632 - accuracy: 0.8921 - val_loss: 0.5506 - val_accuracy: 0.7978\n"
     ]
    }
   ],
   "source": [
    "checkpoint = ModelCheckpoint(\n",
    "    'model3.h5',\n",
    "    monitor = 'val_loss',\n",
    "    verbose = 1,\n",
    "    save_best_only = True\n",
    ")\n",
    "\n",
    "reduce_lr = ReduceLROnPlateau(\n",
    "    monitor = 'val_loss',\n",
    "    factor = 0.2,\n",
    "    verbose = 1,\n",
    "    patience = 5,\n",
    "    min_lr = 0.001\n",
    ")\n",
    "history3 = model3.fit(\n",
    "    X_train,\n",
    "    y_train,\n",
    "    epochs = 10,\n",
    "    batch_size = 32, \n",
    "    validation_data = (X_val, y_val),\n",
    "    verbose = 1,\n",
    "    callbacks = [reduce_lr, checkpoint]\n",
    ")"
   ]
  },
  {
   "cell_type": "code",
   "execution_count": 114,
   "id": "7cb69d91",
   "metadata": {},
   "outputs": [
    {
     "data": {
      "image/png": "[encoded data removed]",
      "text/plain": [
       "<Figure size 1260x360 with 2 Axes>"
      ]
     },
     "metadata": {},
     "output_type": "display_data"
    }
   ],
   "source": [
    "plot_model_performance(history3)"
   ]
  },
  {
   "cell_type": "markdown",
   "id": "15228f5c",
   "metadata": {},
   "source": [
    "### Alternate Model 3 Review\n",
    "By adding dropout layers we have started to make inroads on the overfitting issue. While this isn't drastic enough for a truly excellent model, we have found a possible solution moving forward.\n",
    "\n",
    "Additionally I did some research and I've decided to switch from Adam optimization to RMSprop optimization, which if what I was reading was correct will help with some of the overfitting and improve overall accuracy."
   ]
  },
  {
   "cell_type": "code",
   "execution_count": 115,
   "id": "d3e2915a",
   "metadata": {},
   "outputs": [
    {
     "name": "stdout",
     "output_type": "stream",
     "text": [
      "Model: \"sequential_13\"\n",
      "_________________________________________________________________\n",
      "Layer (type)                 Output Shape              Param #   \n",
      "=================================================================\n",
      "embedding_13 (Embedding)     (None, 23, 100)           1670100   \n",
      "_________________________________________________________________\n",
      "bidirectional_13 (Bidirectio (None, 23, 46)            17250     \n",
      "_________________________________________________________________\n",
      "global_max_pooling1d_11 (Glo (None, 46)                0         \n",
      "_________________________________________________________________\n",
      "batch_normalization_11 (Batc (None, 46)                184       \n",
      "_________________________________________________________________\n",
      "dropout_16 (Dropout)         (None, 46)                0         \n",
      "_________________________________________________________________\n",
      "dense_30 (Dense)             (None, 23)                1081      \n",
      "_________________________________________________________________\n",
      "dropout_17 (Dropout)         (None, 23)                0         \n",
      "_________________________________________________________________\n",
      "dense_31 (Dense)             (None, 23)                552       \n",
      "_________________________________________________________________\n",
      "dense_32 (Dense)             (None, 1)                 24        \n",
      "=================================================================\n",
      "Total params: 1,689,191\n",
      "Trainable params: 1,689,099\n",
      "Non-trainable params: 92\n",
      "_________________________________________________________________\n"
     ]
    }
   ],
   "source": [
    "def model_4():\n",
    "    model = Sequential()\n",
    "    \n",
    "    model.add(Embedding(\n",
    "        input_dim = embedding_matrix.shape[0],\n",
    "        output_dim = embedding_matrix.shape[1],\n",
    "        weights = [embedding_matrix],\n",
    "        input_length = length_longest_tweet\n",
    "    ))\n",
    "    \n",
    "#    model.add(Bidirectional(LSTM(\n",
    "#        length_longest_tweet,\n",
    "#        return_sequences = True,\n",
    "#        recurrent_dropout = 0.2\n",
    "#    )))\n",
    "    \n",
    "    model.add(Bidirectional(GRU(\n",
    "        length_longest_tweet,\n",
    "        return_sequences = True,\n",
    "        recurrent_dropout = 0.2\n",
    "    )))\n",
    "    \n",
    "    model.add(GlobalMaxPool1D())\n",
    "    model.add(BatchNormalization())\n",
    "    model.add(Dropout(0.5))\n",
    "    model.add(Dense(length_longest_tweet, activation = 'relu'))\n",
    "    model.add(Dropout(0.5))\n",
    "    model.add(Dense(length_longest_tweet, activation = 'relu'))\n",
    "    model.add(Dense(1, activation = 'sigmoid'))\n",
    "    model.compile(optimizer = 'rmsprop', loss = 'binary_crossentropy', metrics = ['accuracy'])\n",
    "    \n",
    "    return model\n",
    "\n",
    "model4 = model_4()\n",
    "model4.summary()"
   ]
  },
  {
   "cell_type": "code",
   "execution_count": 116,
   "id": "52c91bd7",
   "metadata": {},
   "outputs": [
    {
     "name": "stdout",
     "output_type": "stream",
     "text": [
      "Epoch 1/10\n",
      "179/179 [==============================] - ETA: 0s - loss: 0.6528 - accuracy: 0.6360\n",
      "Epoch 00001: val_loss improved from inf to 0.57566, saving model to model4.h5\n",
      "179/179 [==============================] - 6s 31ms/step - loss: 0.6528 - accuracy: 0.6360 - val_loss: 0.5757 - val_accuracy: 0.7600\n",
      "Epoch 2/10\n",
      "178/179 [============================>.] - ETA: 0s - loss: 0.5366 - accuracy: 0.7386\n",
      "Epoch 00002: val_loss improved from 0.57566 to 0.47795, saving model to model4.h5\n",
      "179/179 [==============================] - 5s 28ms/step - loss: 0.5369 - accuracy: 0.7388 - val_loss: 0.4779 - val_accuracy: 0.7983\n",
      "Epoch 3/10\n",
      "178/179 [============================>.] - ETA: 0s - loss: 0.4824 - accuracy: 0.7804\n",
      "Epoch 00003: val_loss improved from 0.47795 to 0.44526, saving model to model4.h5\n",
      "179/179 [==============================] - 5s 27ms/step - loss: 0.4822 - accuracy: 0.7803 - val_loss: 0.4453 - val_accuracy: 0.8051\n",
      "Epoch 4/10\n",
      "179/179 [==============================] - ETA: 0s - loss: 0.4381 - accuracy: 0.8119\n",
      "Epoch 00004: val_loss improved from 0.44526 to 0.43720, saving model to model4.h5\n",
      "179/179 [==============================] - 5s 27ms/step - loss: 0.4381 - accuracy: 0.8119 - val_loss: 0.4372 - val_accuracy: 0.8120\n",
      "Epoch 5/10\n",
      "178/179 [============================>.] - ETA: 0s - loss: 0.4276 - accuracy: 0.8227\n",
      "Epoch 00005: val_loss improved from 0.43720 to 0.43342, saving model to model4.h5\n",
      "179/179 [==============================] - 5s 28ms/step - loss: 0.4276 - accuracy: 0.8226 - val_loss: 0.4334 - val_accuracy: 0.8114\n",
      "Epoch 6/10\n",
      "178/179 [============================>.] - ETA: 0s - loss: 0.3987 - accuracy: 0.8392\n",
      "Epoch 00006: val_loss did not improve from 0.43342\n",
      "179/179 [==============================] - 5s 26ms/step - loss: 0.3983 - accuracy: 0.8394 - val_loss: 0.4537 - val_accuracy: 0.8141\n",
      "Epoch 7/10\n",
      "178/179 [============================>.] - ETA: 0s - loss: 0.3733 - accuracy: 0.8522\n",
      "Epoch 00007: val_loss did not improve from 0.43342\n",
      "179/179 [==============================] - 5s 26ms/step - loss: 0.3733 - accuracy: 0.8520 - val_loss: 0.4427 - val_accuracy: 0.8146\n",
      "Epoch 8/10\n",
      "179/179 [==============================] - ETA: 0s - loss: 0.3503 - accuracy: 0.8592\n",
      "Epoch 00008: val_loss did not improve from 0.43342\n",
      "179/179 [==============================] - 5s 26ms/step - loss: 0.3503 - accuracy: 0.8592 - val_loss: 0.4485 - val_accuracy: 0.8130\n",
      "Epoch 9/10\n",
      "178/179 [============================>.] - ETA: 0s - loss: 0.3396 - accuracy: 0.8675\n",
      "Epoch 00009: val_loss did not improve from 0.43342\n",
      "179/179 [==============================] - 5s 28ms/step - loss: 0.3397 - accuracy: 0.8672 - val_loss: 0.4525 - val_accuracy: 0.8104\n",
      "Epoch 10/10\n",
      "179/179 [==============================] - ETA: 0s - loss: 0.3112 - accuracy: 0.8756\n",
      "Epoch 00010: ReduceLROnPlateau reducing learning rate to 0.001.\n",
      "\n",
      "Epoch 00010: val_loss did not improve from 0.43342\n",
      "179/179 [==============================] - 5s 27ms/step - loss: 0.3112 - accuracy: 0.8756 - val_loss: 0.4670 - val_accuracy: 0.8046\n"
     ]
    }
   ],
   "source": [
    "checkpoint = ModelCheckpoint(\n",
    "    'model4.h5',\n",
    "    monitor = 'val_loss',\n",
    "    verbose = 1,\n",
    "    save_best_only = True\n",
    ")\n",
    "\n",
    "reduce_lr = ReduceLROnPlateau(\n",
    "    monitor = 'val_loss',\n",
    "    factor = 0.2,\n",
    "    verbose = 1,\n",
    "    patience = 5,\n",
    "    min_lr = 0.001\n",
    ")\n",
    "history4 = model4.fit(\n",
    "    X_train,\n",
    "    y_train,\n",
    "    epochs = 10,\n",
    "    batch_size = 32, \n",
    "    validation_data = (X_val, y_val),\n",
    "    verbose = 1,\n",
    "    callbacks = [reduce_lr, checkpoint]\n",
    ")"
   ]
  },
  {
   "cell_type": "code",
   "execution_count": 117,
   "id": "4851ff91",
   "metadata": {},
   "outputs": [
    {
     "data": {
      "image/png": "[encoded data removed]",
      "text/plain": [
       "<Figure size 1260x360 with 2 Axes>"
      ]
     },
     "metadata": {},
     "output_type": "display_data"
    }
   ],
   "source": [
    "plot_model_performance(history4)"
   ]
  },
  {
   "cell_type": "markdown",
   "id": "8c83aad0",
   "metadata": {},
   "source": [
    "### Alternate Model 4 Review\n",
    "We increased the dropout rate, which reduced the size of the late epoch backsliding in terms of validation_loss which may indicate that our model is less overfit and more stable over long training periods."
   ]
  },
  {
   "cell_type": "code",
   "execution_count": 118,
   "id": "8729aba9",
   "metadata": {},
   "outputs": [
    {
     "name": "stdout",
     "output_type": "stream",
     "text": [
      "Model: \"sequential_14\"\n",
      "_________________________________________________________________\n",
      "Layer (type)                 Output Shape              Param #   \n",
      "=================================================================\n",
      "embedding_14 (Embedding)     (None, 23, 100)           1670100   \n",
      "_________________________________________________________________\n",
      "bidirectional_14 (Bidirectio (None, 23, 46)            17250     \n",
      "_________________________________________________________________\n",
      "global_max_pooling1d_12 (Glo (None, 46)                0         \n",
      "_________________________________________________________________\n",
      "batch_normalization_12 (Batc (None, 46)                184       \n",
      "_________________________________________________________________\n",
      "dropout_18 (Dropout)         (None, 46)                0         \n",
      "_________________________________________________________________\n",
      "dense_33 (Dense)             (None, 23)                1081      \n",
      "_________________________________________________________________\n",
      "dropout_19 (Dropout)         (None, 23)                0         \n",
      "_________________________________________________________________\n",
      "dense_34 (Dense)             (None, 23)                552       \n",
      "_________________________________________________________________\n",
      "dropout_20 (Dropout)         (None, 23)                0         \n",
      "_________________________________________________________________\n",
      "dense_35 (Dense)             (None, 1)                 24        \n",
      "=================================================================\n",
      "Total params: 1,689,191\n",
      "Trainable params: 1,689,099\n",
      "Non-trainable params: 92\n",
      "_________________________________________________________________\n"
     ]
    }
   ],
   "source": [
    "def model_5():\n",
    "    model = Sequential()\n",
    "    \n",
    "    model.add(Embedding(\n",
    "        input_dim = embedding_matrix.shape[0],\n",
    "        output_dim = embedding_matrix.shape[1],\n",
    "        weights = [embedding_matrix],\n",
    "        input_length = length_longest_tweet\n",
    "    ))\n",
    "    \n",
    "#    model.add(Bidirectional(LSTM(\n",
    "#        length_longest_tweet,\n",
    "#        return_sequences = True,\n",
    "#        recurrent_dropout = 0.2\n",
    "#    )))\n",
    "    \n",
    "    model.add(Bidirectional(GRU(\n",
    "        length_longest_tweet,\n",
    "        return_sequences = True,\n",
    "        recurrent_dropout = 0.5\n",
    "    )))\n",
    "    \n",
    "    model.add(GlobalMaxPool1D())\n",
    "    model.add(BatchNormalization())\n",
    "    model.add(Dropout(0.5))\n",
    "    model.add(Dense(length_longest_tweet, activation = 'relu'))\n",
    "    model.add(Dropout(0.5))\n",
    "    model.add(Dense(length_longest_tweet, activation = 'relu'))\n",
    "    model.add(Dropout(0.5))\n",
    "    model.add(Dense(1, activation = 'sigmoid'))\n",
    "    model.compile(optimizer = 'rmsprop', loss = 'binary_crossentropy', metrics = ['accuracy'])\n",
    "    \n",
    "    return model\n",
    "\n",
    "model5 = model_5()\n",
    "model5.summary()"
   ]
  },
  {
   "cell_type": "code",
   "execution_count": 119,
   "id": "66a3b5c5",
   "metadata": {},
   "outputs": [
    {
     "name": "stdout",
     "output_type": "stream",
     "text": [
      "Epoch 1/10\n",
      "177/179 [============================>.] - ETA: 0s - loss: 0.7552 - accuracy: 0.5809\n",
      "Epoch 00001: val_loss improved from inf to 0.64023, saving model to model5.h5\n",
      "179/179 [==============================] - 5s 30ms/step - loss: 0.7557 - accuracy: 0.5807 - val_loss: 0.6402 - val_accuracy: 0.7248\n",
      "Epoch 2/10\n",
      "179/179 [==============================] - ETA: 0s - loss: 0.6079 - accuracy: 0.6781\n",
      "Epoch 00002: val_loss improved from 0.64023 to 0.50348, saving model to model5.h5\n",
      "179/179 [==============================] - 5s 26ms/step - loss: 0.6079 - accuracy: 0.6781 - val_loss: 0.5035 - val_accuracy: 0.7826\n",
      "Epoch 3/10\n",
      "179/179 [==============================] - ETA: 0s - loss: 0.5430 - accuracy: 0.7457\n",
      "Epoch 00003: val_loss improved from 0.50348 to 0.45803, saving model to model5.h5\n",
      "179/179 [==============================] - 5s 26ms/step - loss: 0.5430 - accuracy: 0.7457 - val_loss: 0.4580 - val_accuracy: 0.7941\n",
      "Epoch 4/10\n",
      "177/179 [============================>.] - ETA: 0s - loss: 0.4966 - accuracy: 0.7880\n",
      "Epoch 00004: val_loss improved from 0.45803 to 0.44133, saving model to model5.h5\n",
      "179/179 [==============================] - 5s 27ms/step - loss: 0.4976 - accuracy: 0.7874 - val_loss: 0.4413 - val_accuracy: 0.8036\n",
      "Epoch 5/10\n",
      "178/179 [============================>.] - ETA: 0s - loss: 0.4630 - accuracy: 0.8074\n",
      "Epoch 00005: val_loss improved from 0.44133 to 0.43555, saving model to model5.h5\n",
      "179/179 [==============================] - 5s 27ms/step - loss: 0.4631 - accuracy: 0.8070 - val_loss: 0.4356 - val_accuracy: 0.8057\n",
      "Epoch 6/10\n",
      "179/179 [==============================] - ETA: 0s - loss: 0.4326 - accuracy: 0.8163\n",
      "Epoch 00006: val_loss did not improve from 0.43555\n",
      "179/179 [==============================] - 5s 26ms/step - loss: 0.4326 - accuracy: 0.8163 - val_loss: 0.4378 - val_accuracy: 0.8157\n",
      "Epoch 7/10\n",
      "178/179 [============================>.] - ETA: 0s - loss: 0.4213 - accuracy: 0.8380\n",
      "Epoch 00007: val_loss improved from 0.43555 to 0.43506, saving model to model5.h5\n",
      "179/179 [==============================] - 5s 27ms/step - loss: 0.4213 - accuracy: 0.8380 - val_loss: 0.4351 - val_accuracy: 0.8120\n",
      "Epoch 8/10\n",
      "179/179 [==============================] - ETA: 0s - loss: 0.3953 - accuracy: 0.8450\n",
      "Epoch 00008: val_loss did not improve from 0.43506\n",
      "179/179 [==============================] - 5s 28ms/step - loss: 0.3953 - accuracy: 0.8450 - val_loss: 0.4386 - val_accuracy: 0.8162\n",
      "Epoch 9/10\n",
      "179/179 [==============================] - ETA: 0s - loss: 0.3748 - accuracy: 0.8508\n",
      "Epoch 00009: val_loss did not improve from 0.43506\n",
      "179/179 [==============================] - 5s 27ms/step - loss: 0.3748 - accuracy: 0.8508 - val_loss: 0.4507 - val_accuracy: 0.8125\n",
      "Epoch 10/10\n",
      "179/179 [==============================] - ETA: 0s - loss: 0.3643 - accuracy: 0.8616\n",
      "Epoch 00010: val_loss did not improve from 0.43506\n",
      "179/179 [==============================] - 5s 27ms/step - loss: 0.3643 - accuracy: 0.8616 - val_loss: 0.4548 - val_accuracy: 0.8093\n"
     ]
    }
   ],
   "source": [
    "checkpoint = ModelCheckpoint(\n",
    "    'model5.h5',\n",
    "    monitor = 'val_loss',\n",
    "    verbose = 2,\n",
    "    save_best_only = True\n",
    ")\n",
    "\n",
    "reduce_lr = ReduceLROnPlateau(\n",
    "    monitor = 'val_loss',\n",
    "    factor = 0.2,\n",
    "    verbose = 1,\n",
    "    patience = 5,\n",
    "    min_lr = 0.001\n",
    ")\n",
    "history5 = model5.fit(\n",
    "    X_train,\n",
    "    y_train,\n",
    "    epochs = 10,\n",
    "    batch_size = 32, \n",
    "    validation_data = (X_val, y_val),\n",
    "    verbose = 1,\n",
    "    callbacks = [checkpoint]\n",
    ")"
   ]
  },
  {
   "cell_type": "code",
   "execution_count": 120,
   "id": "a13a36e3",
   "metadata": {},
   "outputs": [
    {
     "data": {
      "image/png": "[encoded data removed]",
      "text/plain": [
       "<Figure size 1260x360 with 2 Axes>"
      ]
     },
     "metadata": {},
     "output_type": "display_data"
    }
   ],
   "source": [
    "plot_model_performance(history5)"
   ]
  },
  {
   "cell_type": "markdown",
   "id": "ce05ae75",
   "metadata": {},
   "source": [
    "### Alternate Model 5 Review\n",
    "For our final Model rendition we have added another dense layer in addition to another dropout layer. Additionaly we increased the recurrent_dropout rate from 0.2 to 0.5 in the GRU layer of the model. This model is our most stable by validation loss as a metric, and performed best at epoch 6. We will use the saved state of this model for our final submission."
   ]
  },
  {
   "cell_type": "markdown",
   "id": "54df090f",
   "metadata": {},
   "source": [
    "## Conclusion"
   ]
  },
  {
   "cell_type": "markdown",
   "id": "fe966405",
   "metadata": {},
   "source": [
    "Overall RNNs lived up to their reputation of being very difficult to train. While we made some progress by addressing overfitting, there are still some indications that the model is overfit in the later epochs. \n",
    "\n",
    "Performance: The final model performed at approximately 81.41% validation accuracy which is a good start, but is underwhelming for a binary classification problem. To help address the performance issue we did alot of data cleaning, but we may want to try a more complex model with a larger data set that does less to remove some of the elements such as punctuation which might reveal some deeper patterns.\n",
    "\n",
    "Overfitting: The overfitting was our primary issue throughout the entire model architecture process. In future renditions I think a larger dataset in conjunction with more prevelant dropouts may provide a better model. But considering the constraints of the training data size, it will be difficult to make many improvements from where the model currently stands.\n",
    "\n",
    "Time: I was surprised to find that the models all trained extremely quickly compared to Convolutional nueral network models or even some medium sized dense nueral networks. This may be the case because this is the first model I've trained with Tensorflow instead of Pytorch."
   ]
  },
  {
   "cell_type": "markdown",
   "id": "8237cbbf",
   "metadata": {},
   "source": [
    "### Submission"
   ]
  },
  {
   "cell_type": "code",
   "execution_count": 128,
   "id": "88263183",
   "metadata": {},
   "outputs": [
    {
     "data": {
      "text/html": [
       "<div>\n",
       "<style scoped>\n",
       "    .dataframe tbody tr th:only-of-type {\n",
       "        vertical-align: middle;\n",
       "    }\n",
       "\n",
       "    .dataframe tbody tr th {\n",
       "        vertical-align: top;\n",
       "    }\n",
       "\n",
       "    .dataframe thead th {\n",
       "        text-align: right;\n",
       "    }\n",
       "</style>\n",
       "<table border=\"1\" class=\"dataframe\">\n",
       "  <thead>\n",
       "    <tr style=\"text-align: right;\">\n",
       "      <th></th>\n",
       "      <th>id</th>\n",
       "      <th>target</th>\n",
       "    </tr>\n",
       "  </thead>\n",
       "  <tbody>\n",
       "    <tr>\n",
       "      <th>0</th>\n",
       "      <td>0</td>\n",
       "      <td>0</td>\n",
       "    </tr>\n",
       "    <tr>\n",
       "      <th>1</th>\n",
       "      <td>2</td>\n",
       "      <td>0</td>\n",
       "    </tr>\n",
       "    <tr>\n",
       "      <th>2</th>\n",
       "      <td>3</td>\n",
       "      <td>0</td>\n",
       "    </tr>\n",
       "    <tr>\n",
       "      <th>3</th>\n",
       "      <td>9</td>\n",
       "      <td>0</td>\n",
       "    </tr>\n",
       "    <tr>\n",
       "      <th>4</th>\n",
       "      <td>11</td>\n",
       "      <td>0</td>\n",
       "    </tr>\n",
       "  </tbody>\n",
       "</table>\n",
       "</div>"
      ],
      "text/plain": [
       "   id  target\n",
       "0   0       0\n",
       "1   2       0\n",
       "2   3       0\n",
       "3   9       0\n",
       "4  11       0"
      ]
     },
     "execution_count": 128,
     "metadata": {},
     "output_type": "execute_result"
    }
   ],
   "source": [
    "submission = pd.read_csv(\".\\\\nlp-getting-started\\\\sample_submission.csv\")\n",
    "submission.head()"
   ]
  },
  {
   "cell_type": "code",
   "execution_count": 139,
   "id": "32b709df",
   "metadata": {},
   "outputs": [],
   "source": [
    "test['text'] = test['text'].apply(lambda x: clean_text(x))\n",
    "test['text'] = test['text'].apply(lambda x: remove_emoji(x))\n",
    "test['text'] = test['text'].apply(lambda x: remove_stop_words(x))\n",
    "test_tweets = test.text.values\n",
    "test_tweets = pad_sequences(embed(test_tweets), length_longest_tweet, padding = 'post')\n",
    "model5.load_weights('model5.h5')\n",
    "predictions = model5.predict_classes(test_tweets)\n",
    "submission['target'] = predictions\n",
    "submission.to_csv('submit.csv', index = False)"
   ]
  },
  {
   "cell_type": "code",
   "execution_count": 140,
   "id": "ebbdd04d",
   "metadata": {},
   "outputs": [
    {
     "data": {
      "text/plain": [
       "<AxesSubplot:xlabel='target', ylabel='count'>"
      ]
     },
     "execution_count": 140,
     "metadata": {},
     "output_type": "execute_result"
    },
    {
     "data": {
      "image/png": "[encoded data removed]",
      "text/plain": [
       "<Figure size 432x288 with 1 Axes>"
      ]
     },
     "metadata": {},
     "output_type": "display_data"
    }
   ],
   "source": [
    "sns.countplot(data = submission, x = 'target')"
   ]
  },
  {
   "cell_type": "markdown",
   "id": "420e8b61",
   "metadata": {},
   "source": [
    "References:\n",
    "1. https://www.kaggle.com/code/andreshg/nlp-glove-bert-tf-idf-lstm-explained#9.-NLP:-Disaster-Tweets\n",
    "2. https://analyticsindiamag.com/guide-to-tensorflow-keras-optimizers/\n",
    "3. https://keras.io/api/layers/recurrent_layers/\n",
    "4. https://www.kaggle.com/code/stuartakeson/nlp-disaster-tweets-with-glove-and-lstm/edit\n",
    "5. https://analyticsindiamag.com/lstm-vs-gru-in-recurrent-neural-network-a-comparative-study/"
   ]
  },
  {
   "cell_type": "code",
   "execution_count": null,
   "id": "7fb88b77",
   "metadata": {},
   "outputs": [],
   "source": []
  }
 ],
 "metadata": {
  "kernelspec": {
   "display_name": "Python 3 (ipykernel)",
   "language": "python",
   "name": "python3"
  },
  "language_info": {
   "codemirror_mode": {
    "name": "ipython",
    "version": 3
   },
   "file_extension": ".py",
   "mimetype": "text/x-python",
   "name": "python",
   "nbconvert_exporter": "python",
   "pygments_lexer": "ipython3",
   "version": "3.8.13"
  }
 },
 "nbformat": 4,
 "nbformat_minor": 5
}
